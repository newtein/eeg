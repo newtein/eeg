{
 "cells": [
  {
   "cell_type": "code",
   "execution_count": 23,
   "metadata": {},
   "outputs": [],
   "source": [
    "import pickle\n",
    "import matplotlib.pyplot as plt\n",
    "from collections import OrderedDict\n",
    "import numpy as np\n",
    "import scipy.signal as signal\n",
    "import matplotlib.gridspec as gridspec\n",
    "#import seaborn as sns\n",
    "import networkx as nx\n",
    "#sns.reset_defaults()"
   ]
  },
  {
   "cell_type": "code",
   "execution_count": 24,
   "metadata": {},
   "outputs": [],
   "source": [
    "channel=pickle.load(open(\"pickles/channel.pickle\",\"rb\"))\n",
    "locations=pickle.load(open(\"pickles/locations.pickle\",\"rb\"))\n",
    "\n",
    "title=\"Stimulus S1 obj - Alcohol\"\n",
    "f=open(\"data/alcohol/co2a0000364.rd.000\",\"r\")\n",
    "\n",
    "title=\"Stimulus S2 nomatch - Alcohol\"\n",
    "f=open(\"data/alcohol/co2a0000364.rd.007\",\"r\")\n",
    "\n",
    "title=\"Stimulus S2 match err - Alcohol\"\n",
    "f=open(\"data/alcohol/co2a0000364.rd.011\",\"r\")\n",
    "\n",
    "title=\"Stimulus S2 match - Alcohol\"\n",
    "f=open(\"data/alcohol/co2a0000364.rd.009\",\"r\")"
   ]
  },
  {
   "cell_type": "code",
   "execution_count": 36,
   "metadata": {
    "scrolled": false
   },
   "outputs": [
    {
     "name": "stdout",
     "output_type": "stream",
     "text": [
      "A_s1obj.png\n",
      "A_s1obj.png\n",
      "A_s1obj.png\n"
     ]
    }
   ],
   "source": [
    "# f=open(\"co2c1000367.rd.000\",\"r\")\n",
    "# f=open(\"co2a0000364.rd.055\",\"r\")\n",
    "# title=\"Stimulus S2 nomatch - Control\"\n",
    "# f=open(\"data/control/co2c0000337.rd.021\",\"r\")\n",
    "\n",
    "# title=\"Stimulus S1 obj - Control\"\n",
    "# f=open(\"data/control/co2c0000337.rd.000\",\"r\")\n",
    "\n",
    "title=\"Stimulus S1 obj - Alcohol\"\n",
    "f=open(\"data/alcohol/co2a0000364.rd.000\",\"r\")\n",
    "\n",
    "data=OrderedDict()\n",
    "\n",
    "for l in f:\n",
    "    row=l.split()\n",
    "    if(l[0]==\"#\" and len(row)==4 and row[2]==\"chan\"):\n",
    "        if row[1] not in data:\n",
    "            data[row[1]]=OrderedDict()\n",
    "\n",
    "    elif len(row)==4 and row[0]!=\"#\":\n",
    "        #print(data,row)\n",
    "        data[row[1]][int(row[2])]=float(row[3])  \n",
    "        \n",
    "        \n",
    "        \n",
    "waveData,gamma,beta,alpha,theta,delta=[],[],[],[],[],[]\n",
    "wins=[41,31,65,151,191]\n",
    "for sensor in channel:\n",
    "    wave=[data[sensor][i] for i in data[sensor]]\n",
    "    waveData.append(wave)\n",
    "    sdata,gpeel=savitzkyGolay(wave,[wins[0],3])\n",
    "    sdata,bpeel=savitzkyGolay(wave,[wins[1],3])\n",
    "    sdata,apeel=savitzkyGolay(wave,[wins[2],3])\n",
    "    sdata,tpeel=savitzkyGolay(wave,[wins[3],3])\n",
    "    sdata,dpeel=savitzkyGolay(wave,[wins[4],3])\n",
    "    \n",
    "    waveData.append(wave)\n",
    "    gamma.append(gpeel)\n",
    "    beta.append(bpeel)\n",
    "    alpha.append(apeel)\n",
    "    theta.append(tpeel)\n",
    "    delta.append(dpeel)\n",
    "\n",
    "waveMatrix=np.corrcoef(waveData)\n",
    "gammaMatrix=np.corrcoef(gamma)\n",
    "betaMatrix=np.corrcoef(beta)\n",
    "alphaMatrix=np.corrcoef(alpha)\n",
    "thetaMatrix=np.corrcoef(theta)\n",
    "deltaMatrix=np.corrcoef(delta)\n",
    "   \n",
    "        \n",
    "plotNetworkGraph(waveMatrix,gammaMatrix,betaMatrix,alphaMatrix,thetaMatrix,deltaMatrix,locations,channel,\"A_s1obj.png\",[0.5,0.7,0.9],5)"
   ]
  },
  {
   "cell_type": "code",
   "execution_count": 2,
   "metadata": {},
   "outputs": [],
   "source": [
    "def savitzkyGolay(data, parameters):\n",
    "    #print(parameters)\n",
    "    smooth_data = signal.savgol_filter(data, parameters[0], parameters[1])\n",
    "    peel = np.array(data[-len(smooth_data):]) - np.array(smooth_data)\n",
    "    return smooth_data, peel"
   ]
  },
  {
   "cell_type": "code",
   "execution_count": 35,
   "metadata": {},
   "outputs": [],
   "source": [
    "def plotNetworkGraph(waveMatrix,gammaMatrix,betaMatrix,alphaMatrix,thetaMatrix,deltaMatrix,locations,nodeNames, filename, thresholds, nodeSize):\n",
    "    \n",
    "    cmap=plt.get_cmap(\"binary\")\n",
    "    for thres in thresholds:\n",
    "        G_wave=nx.Graph()\n",
    "        G_gamma = nx.Graph()\n",
    "        G_beta = nx.Graph()\n",
    "        G_alpha = nx.Graph()\n",
    "        G_theta = nx.Graph()\n",
    "        G_delta = nx.Graph()\n",
    "\n",
    "        Graphs = [G_wave,G_gamma,G_beta,G_alpha,G_theta,G_delta]\n",
    "        for name in nodeNames:\n",
    "            x=locations[name][0]\n",
    "            y=locations[name][1]\n",
    "            #print(latitude,longitude)\n",
    "            \n",
    "            G_wave.add_node(name,pos=(x,y))\n",
    "           \n",
    "            G_gamma.add_node(name,pos=(x,y))\n",
    "\n",
    "            G_beta.add_node(name,pos=(x,y))\n",
    "    \n",
    "            G_alpha.add_node(name,pos=(x,y))\n",
    "       \n",
    "            G_theta.add_node(name,pos=(x,y))\n",
    "          \n",
    "            G_delta.add_node(name,pos=(x,y))\n",
    "        for i in range(len(gammaMatrix)):\n",
    "            for j in range(i+1,len(gammaMatrix)):\n",
    "                    node1 = nodeNames[i]\n",
    "                    node2 = nodeNames[j]\n",
    "                    \n",
    "                    waveC=waveMatrix[i][j]\n",
    "                    gammaC = gammaMatrix[i][j]\n",
    "                    betaC = betaMatrix[i][j]\n",
    "                    alphaC = alphaMatrix[i][j]\n",
    "                    thetaC = thetaMatrix[i][j]\n",
    "                    deltaC = deltaMatrix[i][j]\n",
    "\n",
    "                    highWave=(waveC>thres)\n",
    "                    highGamma = (gammaC > thres)\n",
    "                    highBeta = (betaC > thres)\n",
    "                    highAlpha = (alphaC > thres)\n",
    "                    highTheta = (thetaC > thres)\n",
    "                    highDelta = (deltaC > thres)\n",
    "                    \n",
    "                    \n",
    "                    if highWave:\n",
    "                        G_wave.add_edge(node1, node2, weight = waveC) \n",
    "                    if highGamma:\n",
    "                        G_gamma.add_edge(node1, node2, weight = gammaC) \n",
    "                    if highBeta:\n",
    "                        G_beta.add_edge(node1, node2, weight = betaC) \n",
    "                    if highAlpha:\n",
    "                        G_alpha.add_edge(node1, node2, weight = alphaC) \n",
    "                    if highTheta:\n",
    "                        G_theta.add_edge(node1, node2, weight = thetaC) \n",
    "                    if highDelta:\n",
    "                        G_delta.add_edge(node1, node2, weight = deltaC) \n",
    "\n",
    "        plt.close()\n",
    "        plt.figure(figsize = (7,4), dpi = 300)\n",
    "        gs = gridspec.GridSpec(1,4)\n",
    "        \n",
    "        plt.axis('off')\n",
    "\n",
    "        plt.subplot(gs[0,0:2])\n",
    "        plt.title('Wave',fontsize = 7)\n",
    "        edgewidth_Amplitude = [ d['weight'] for (u,v,d) in G_wave.edges(data=True)]\n",
    "        pos=nx.get_node_attributes(G_wave,'pos')\n",
    "        nx.draw_networkx_nodes(G_wave,pos, node_color = 'r', node_size = nodeSize, alpha = 0.7)\n",
    "        nx.draw_networkx_edges(G_wave, pos, width=edgewidth_Amplitude ,cmap=cmap,edge_color =  [cmap(i) for i in edgewidth_Amplitude], alpha = [cmap(i) for i in edgewidth_Amplitude])\n",
    "        # edge_color = edgewidth_Amplitude  alpha = edgewidth_Amplitude\n",
    "        plt.axis('off')\n",
    "\n",
    "        plt.subplot(gs[0,2:4])\n",
    "        plt.title('Peel(41)',fontsize = 7)\n",
    "        edgewidth_Amplitude = [ d['weight'] for (u,v,d) in G_gamma.edges(data=True)]\n",
    "        pos=nx.get_node_attributes(G_gamma,'pos')\n",
    "        nx.draw_networkx_nodes(G_gamma,pos, node_color = 'r', node_size = nodeSize, alpha = 0.7)\n",
    "        # \n",
    "        nx.draw_networkx_edges(G_gamma, pos,cmap=cmap,edge_color =  [cmap(i) for i in edgewidth_Amplitude], alpha = [cmap(i) for i in edgewidth_Amplitude], width=edgewidth_Amplitude)\n",
    "        #Bmap_Amplitude.drawlsmask(land_color='coral',ocean_color='aqua',lakes=True)\n",
    "        plt.axis('off')\n",
    "\n",
    "\n",
    "#         plt.subplot(gs[1,0:2])\n",
    "#         plt.title('Peel(31)',fontsize = 7)\n",
    "#         edgewidth_Peel = [ d['weight'] for (u,v,d) in G_beta.edges(data=True)]\t\n",
    "#         color= [cmap(i) for i in edgewidth_Peel]\n",
    "#         pos=nx.get_node_attributes(G_beta,'pos')\n",
    "#         nx.draw_networkx_nodes(G_beta,pos, node_color = 'r', node_size = nodeSize, alpha = 0.7)\n",
    "#         nx.draw_networkx_edges(G_beta, pos,cmap=cmap, edge_color = color, width=edgewidth_Peel, alpha = color)\n",
    "#         plt.axis('off')\n",
    "\n",
    "#         plt.subplot(gs[1,2:4])\n",
    "#         plt.title('Peel(65)',fontsize = 7)\n",
    "#         edgewidth_OnlyAmplitude = [ d['weight'] for (u,v,d) in G_alpha.edges(data=True)]\n",
    "#         color= [cmap(i) for i in edgewidth_OnlyAmplitude]\n",
    "#         pos=nx.get_node_attributes(G_alpha,'pos')\n",
    "#         nx.draw_networkx_nodes(G_alpha,pos, node_color = 'r', node_size = nodeSize, alpha = 0.7)\n",
    "#         nx.draw_networkx_edges(G_alpha, pos,cmap=cmap, edge_color = color, width=edgewidth_OnlyAmplitude, alpha = color)\n",
    "#         plt.axis('off')\n",
    "\n",
    "\n",
    "#         plt.subplot(gs[2,0:2])\n",
    "#         plt.title('Peel(151)',fontsize = 7)\n",
    "#         edgewidth_OnlyPeel = [ d['weight'] for (u,v,d) in G_theta.edges(data=True)]\t\n",
    "#         color= [cmap(i) for i in edgewidth_OnlyPeel]\n",
    "#         pos=nx.get_node_attributes(G_theta,'pos')\n",
    "#         nx.draw_networkx_nodes(G_theta,pos, node_color = 'r', node_size = nodeSize, alpha = 0.7)\n",
    "#         nx.draw_networkx_edges(G_theta, pos,cmap=cmap, edge_color = color, width=edgewidth_OnlyPeel, alpha = color)\n",
    "#         plt.axis('off')\n",
    "\n",
    "#         plt.subplot(gs[2,2:4])\n",
    "#         plt.title('Peel(191)',fontsize = 7)\n",
    "#         edgewidth_AmplitudenPeel = [ d['weight'] for (u,v,d) in G_delta.edges(data=True)]\n",
    "#         color= [cmap(i) for i in edgewidth_AmplitudenPeel]\n",
    "#         pos=nx.get_node_attributes(G_delta,'pos')\n",
    "#         nx.draw_networkx_nodes(G_delta,pos, node_color = 'r', node_size = nodeSize, alpha = 0.7)\n",
    "#         nx.draw_networkx_edges(G_delta, pos,cmap=cmap, edge_color = color, width=edgewidth_AmplitudenPeel, alpha = color)\n",
    "#         plt.axis('off')\n",
    "\n",
    "        plt.tight_layout()\n",
    "        print(filename)\n",
    "        \n",
    "        #plt.suptitle(title+\": Cross-Correlation: Threshold-{}\".format(thres),size=8.5)\n",
    "        plt.suptitle(\"Alcohol: Threshold-{}\".format(thres),size=8.5)\n",
    "        plt.subplots_adjust(top=0.88)\n",
    "        #plt.show()\n",
    "        plt.savefig(\"waveAndPeel/SUPP/{}_\".format(filename)+str(thres)+\".png\", dpi = 300)\n"
   ]
  },
  {
   "cell_type": "code",
   "execution_count": 59,
   "metadata": {},
   "outputs": [
    {
     "data": {
      "text/plain": [
       "array([[ 1.        ,  0.84896132,  0.82432499, ...,  0.58088877,\n",
       "         0.50274966,  0.51063296],\n",
       "       [ 0.84896132,  1.        ,  0.58826387, ...,  0.46216847,\n",
       "         0.2828387 ,  0.28834548],\n",
       "       [ 0.82432499,  0.58826387,  1.        , ...,  0.60036895,\n",
       "         0.56585355,  0.56613307],\n",
       "       ..., \n",
       "       [ 0.58088877,  0.46216847,  0.60036895, ...,  1.        ,\n",
       "         0.78313012,  0.79364391],\n",
       "       [ 0.50274966,  0.2828387 ,  0.56585355, ...,  0.78313012,\n",
       "         1.        ,  0.9921744 ],\n",
       "       [ 0.51063296,  0.28834548,  0.56613307, ...,  0.79364391,\n",
       "         0.9921744 ,  1.        ]])"
      ]
     },
     "execution_count": 59,
     "metadata": {},
     "output_type": "execute_result"
    }
   ],
   "source": [
    "gammaMatrix"
   ]
  },
  {
   "cell_type": "code",
   "execution_count": 60,
   "metadata": {},
   "outputs": [
    {
     "data": {
      "text/plain": [
       "array([[ 1.        ,  0.91423466,  0.87838901, ...,  0.664659  ,\n",
       "         0.53994722,  0.53702875],\n",
       "       [ 0.91423466,  1.        ,  0.69321198, ...,  0.5432895 ,\n",
       "         0.36038614,  0.35879498],\n",
       "       [ 0.87838901,  0.69321198,  1.        , ...,  0.80390229,\n",
       "         0.73665314,  0.73233191],\n",
       "       ..., \n",
       "       [ 0.664659  ,  0.5432895 ,  0.80390229, ...,  1.        ,\n",
       "         0.87460886,  0.87435113],\n",
       "       [ 0.53994722,  0.36038614,  0.73665314, ...,  0.87460886,\n",
       "         1.        ,  0.9986144 ],\n",
       "       [ 0.53702875,  0.35879498,  0.73233191, ...,  0.87435113,\n",
       "         0.9986144 ,  1.        ]])"
      ]
     },
     "execution_count": 60,
     "metadata": {},
     "output_type": "execute_result"
    }
   ],
   "source": [
    "deltaMatrix"
   ]
  },
  {
   "cell_type": "code",
   "execution_count": 75,
   "metadata": {},
   "outputs": [
    {
     "data": {
      "text/plain": [
       "array([[ 1.        ,  1.        ,  0.91942025, ...,  0.67419604,\n",
       "         0.67319233,  0.67319233],\n",
       "       [ 1.        ,  1.        ,  0.91942025, ...,  0.67419604,\n",
       "         0.67319233,  0.67319233],\n",
       "       [ 0.91942025,  0.91942025,  1.        , ...,  0.43290978,\n",
       "         0.43195384,  0.43195384],\n",
       "       ..., \n",
       "       [ 0.67419604,  0.67419604,  0.43290978, ...,  1.        ,\n",
       "         0.99977685,  0.99977685],\n",
       "       [ 0.67319233,  0.67319233,  0.43195384, ...,  0.99977685,\n",
       "         1.        ,  1.        ],\n",
       "       [ 0.67319233,  0.67319233,  0.43195384, ...,  0.99977685,\n",
       "         1.        ,  1.        ]])"
      ]
     },
     "execution_count": 75,
     "metadata": {},
     "output_type": "execute_result"
    }
   ],
   "source": [
    "waveMatrix"
   ]
  },
  {
   "cell_type": "code",
   "execution_count": null,
   "metadata": {},
   "outputs": [],
   "source": []
  }
 ],
 "metadata": {
  "kernelspec": {
   "display_name": "Python 3",
   "language": "python",
   "name": "python3"
  },
  "language_info": {
   "codemirror_mode": {
    "name": "ipython",
    "version": 3
   },
   "file_extension": ".py",
   "mimetype": "text/x-python",
   "name": "python",
   "nbconvert_exporter": "python",
   "pygments_lexer": "ipython3",
   "version": "3.6.3"
  }
 },
 "nbformat": 4,
 "nbformat_minor": 2
}
