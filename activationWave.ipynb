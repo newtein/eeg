{
 "cells": [
  {
   "cell_type": "code",
   "execution_count": 1,
   "metadata": {},
   "outputs": [],
   "source": [
    "import pickle,os\n",
    "import matplotlib.pyplot as plt\n",
    "from collections import OrderedDict\n",
    "import numpy as np\n",
    "import scipy.signal as signal\n",
    "import matplotlib.gridspec as gridspec\n",
    "from itertools import chain\n",
    "#import seaborn as sns\n",
    "import networkx as nx\n",
    "#sns.reset_defaults()"
   ]
  },
  {
   "cell_type": "code",
   "execution_count": 16,
   "metadata": {},
   "outputs": [],
   "source": [
    "pathA=\"processedData/alcohol/\"\n",
    "channel=pickle.load(open(\"pickles/channel.pickle\",\"rb\"))\n",
    "locations=pickle.load(open(\"pickles/locations.pickle\",\"rb\"))\n",
    "threshold=0.7\n",
    "\n",
    "cluster=OrderedDict()\n",
    "cluster['C']=['C{}'.format(i) for i in range(1,7)]\n",
    "cluster['F']=['F{}'.format(i) for i in range(1,9)]\n",
    "cluster['O']=['O{}'.format(i) for i in range(1,3)]\n",
    "cluster['P']=['P{}'.format(i) for i in range(1,9)]\n",
    "\n",
    "cluster['C'].extend(['CZ'])\n",
    "cluster['F'].extend(['FZ'])\n",
    "cluster['O'].extend(['OZ'])\n",
    "cluster['P'].extend(['PZ'])\n",
    "\n",
    "\n",
    "cluster['T']=['T7','T8']\n",
    "\n",
    "studiedSensors=list(cluster.keys())"
   ]
  },
  {
   "cell_type": "code",
   "execution_count": 30,
   "metadata": {},
   "outputs": [
    {
     "data": {
      "text/plain": [
       "OrderedDict([('C', ['C1', 'C2', 'C3', 'C4', 'C5', 'C6', 'CZ']),\n",
       "             ('F', ['F1', 'F2', 'F3', 'F4', 'F5', 'F6', 'F7', 'F8', 'FZ']),\n",
       "             ('O', ['O1', 'O2', 'OZ']),\n",
       "             ('P', ['P1', 'P2', 'P3', 'P4', 'P5', 'P6', 'P7', 'P8', 'PZ']),\n",
       "             ('T', ['T7', 'T8'])])"
      ]
     },
     "execution_count": 30,
     "metadata": {},
     "output_type": "execute_result"
    }
   ],
   "source": [
    "cluster"
   ]
  },
  {
   "cell_type": "code",
   "execution_count": 17,
   "metadata": {},
   "outputs": [],
   "source": [
    "sensorMap={}\n",
    "sensorMapRev={}\n",
    "count=0\n",
    "for sensor in channel:\n",
    "    sensorMap[sensor]=count\n",
    "    sensorMapRev[count]=sensor\n",
    "    count+=1 "
   ]
  },
  {
   "cell_type": "code",
   "execution_count": 18,
   "metadata": {},
   "outputs": [],
   "source": [
    "def initConnectionMatrix():\n",
    "    matrix={}\n",
    "    for i in range(len(cluster)):\n",
    "        for j in range(0,i+1):\n",
    "            key=studiedSensors[i]+\"-\"+studiedSensors[j]\n",
    "            matrix[key]=0\n",
    "    return matrix\n",
    "\n",
    "def validateSensors(i,j):\n",
    "    sensorA=sensorMapRev[i]\n",
    "    sensorB=sensorMapRev[j]\n",
    "    if sensorA[0] in studiedSensors and sensorB[0] in studiedSensors:\n",
    "        if sensorA in cluster[sensorA[0]] and sensorB in cluster[sensorB[0]]:\n",
    "            return True\n",
    "        else:\n",
    "            return False\n",
    "    else:\n",
    "            return False\n",
    "        \n",
    "def addConnection(trail,stimulus,i,j):\n",
    "    sensorA=sensorMapRev[i]\n",
    "    sensorB=sensorMapRev[j]\n",
    "    try:\n",
    "        key=sensorA[0]+'-'+sensorB[0]\n",
    "        sumConnections[stimulus][key]+=1\n",
    "        trailMatrix[trail][key]+=1\n",
    "    except:\n",
    "        key=sensorB[0]+'-'+sensorA[0]\n",
    "        sumConnections[stimulus][key]+=1  \n",
    "        trailMatrix[trail][key]+=1\n",
    "        \n",
    "def savitzkyGolay(data, parameters):\n",
    "    #print(parameters)\n",
    "    smooth_data = signal.savgol_filter(data, parameters[0], parameters[1])\n",
    "    peel = np.array(data[-len(smooth_data):]) - np.array(smooth_data)\n",
    "    return smooth_data, peel"
   ]
  },
  {
   "cell_type": "code",
   "execution_count": 19,
   "metadata": {},
   "outputs": [],
   "source": [
    "sumConnections={}\n",
    "stimulusFreq={}\n",
    "stimuli=['S1obj','S2match','S2nomatch']\n",
    "for stimulus in stimuli:\n",
    "    sumConnections[stimulus]=initConnectionMatrix()\n",
    "    stimulusFreq[stimulus]=0"
   ]
  },
  {
   "cell_type": "code",
   "execution_count": 20,
   "metadata": {},
   "outputs": [
    {
     "name": "stderr",
     "output_type": "stream",
     "text": [
      "c:\\program files (x86)\\python36-32\\lib\\site-packages\\numpy\\lib\\function_base.py:3167: RuntimeWarning: invalid value encountered in true_divide\n",
      "  c /= stddev[:, None]\n",
      "c:\\program files (x86)\\python36-32\\lib\\site-packages\\numpy\\lib\\function_base.py:3168: RuntimeWarning: invalid value encountered in true_divide\n",
      "  c /= stddev[None, :]\n"
     ]
    }
   ],
   "source": [
    "\n",
    "trails=os.listdir(pathA)\n",
    "clusterMatrix=initConnectionMatrix()\n",
    "\n",
    "data=set()\n",
    "trailMatrix=OrderedDict()\n",
    "\n",
    "for trail in trails:\n",
    "    patient,stimulus=chain(trail.split(\"_\"))\n",
    "    stimulusFreq[stimulus]+=1\n",
    "    data=pickle.load(open(pathA+trail,\"rb\"))\n",
    "    tempdata=[]\n",
    "    trailMatrix[trail]=initConnectionMatrix()\n",
    "    for sensor in channel:\n",
    "        tempdata.append(data[sensor])\n",
    "    corrMatrix=np.corrcoef(tempdata)\n",
    "    \n",
    "    for i in range(len(tempdata)):\n",
    "        for j in range(0,i):\n",
    "            if validateSensors(i,j):\n",
    "                if corrMatrix[i][j]>=threshold:\n",
    "                    addConnection(trail,stimulus,i,j)      "
   ]
  },
  {
   "cell_type": "code",
   "execution_count": 21,
   "metadata": {},
   "outputs": [
    {
     "data": {
      "text/plain": [
       "{'S1obj': 77, 'S2match': 77, 'S2nomatch': 77}"
      ]
     },
     "execution_count": 21,
     "metadata": {},
     "output_type": "execute_result"
    }
   ],
   "source": [
    "stimulusFreq"
   ]
  },
  {
   "cell_type": "code",
   "execution_count": null,
   "metadata": {},
   "outputs": [],
   "source": []
  },
  {
   "cell_type": "code",
   "execution_count": 22,
   "metadata": {
    "scrolled": false
   },
   "outputs": [
    {
     "name": "stdout",
     "output_type": "stream",
     "text": [
      "403 21.0 77\n"
     ]
    }
   ],
   "source": [
    "zMatrix=initConnectionMatrix()\n",
    "activation={}\n",
    "for stimulus in stimuli:\n",
    "    activation[stimulus]=initConnectionMatrix()\n",
    "    \n",
    "for conn in zMatrix:\n",
    "    if conn[0]==conn[-1]:\n",
    "        l=len(cluster[conn[0]])\n",
    "        zMatrix[conn]=(l*(l-1))/2\n",
    "    else:\n",
    "        zMatrix[conn]=len(cluster[conn[0]])*len(cluster[conn[-1]])\n",
    "\n",
    "        \n",
    "for stimulus in stimuli:\n",
    "    n=stimulusFreq[stimulus]\n",
    "    for conn in sumConnections[stimulus]:\n",
    "        z=zMatrix[conn]\n",
    "        value=sumConnections[stimulus][conn]\n",
    "        activation[stimulus][conn]=value/(z*n)\n",
    "        if stimulus==\"S1obj\" and conn==\"C-C\":\n",
    "            print(value,z,n)"
   ]
  },
  {
   "cell_type": "code",
   "execution_count": 23,
   "metadata": {},
   "outputs": [],
   "source": [
    "pickle.dump(activation,open(\"activation/waveAndpeel/alcoholActivation.pickle\",\"wb\"))\n",
    "#pickle.dump(activation,open(\"activation/alcoholActivation.pickle\",\"wb\"))"
   ]
  },
  {
   "cell_type": "code",
   "execution_count": 24,
   "metadata": {},
   "outputs": [
    {
     "data": {
      "text/plain": [
       "{'S1obj': {'C-C': 0.24922696351267778,\n",
       "  'F-C': 0.14491857349000206,\n",
       "  'F-F': 0.4531024531024531,\n",
       "  'O-C': 0.10265924551638837,\n",
       "  'O-F': 0.0707070707070707,\n",
       "  'O-O': 0.7619047619047619,\n",
       "  'P-C': 0.14801071943929087,\n",
       "  'P-F': 0.06573673240339907,\n",
       "  'P-O': 0.5858585858585859,\n",
       "  'P-P': 0.5562770562770563,\n",
       "  'T-C': 0.24953617810760667,\n",
       "  'T-F': 0.14935064935064934,\n",
       "  'T-O': 0.11688311688311688,\n",
       "  'T-P': 0.16883116883116883,\n",
       "  'T-T': 0.11688311688311688},\n",
       " 'S2match': {'C-C': 0.274582560296846,\n",
       "  'F-C': 0.1686250257678829,\n",
       "  'F-F': 0.5678210678210678,\n",
       "  'O-C': 0.16573902288188003,\n",
       "  'O-F': 0.09331409331409331,\n",
       "  'O-O': 0.8311688311688312,\n",
       "  'P-C': 0.21232735518449805,\n",
       "  'P-F': 0.08128908128908129,\n",
       "  'P-O': 0.683982683982684,\n",
       "  'P-P': 0.6201298701298701,\n",
       "  'T-C': 0.2820037105751391,\n",
       "  'T-F': 0.1673881673881674,\n",
       "  'T-O': 0.22510822510822512,\n",
       "  'T-P': 0.24025974025974026,\n",
       "  'T-T': 0.22077922077922077},\n",
       " 'S2nomatch': {'C-C': 0.22139764996907854,\n",
       "  'F-C': 0.11523397237682952,\n",
       "  'F-F': 0.5173160173160173,\n",
       "  'O-C': 0.10265924551638837,\n",
       "  'O-F': 0.04329004329004329,\n",
       "  'O-O': 0.7965367965367965,\n",
       "  'P-C': 0.12945784374355804,\n",
       "  'P-F': 0.034151034151034154,\n",
       "  'P-O': 0.6498316498316499,\n",
       "  'P-P': 0.5901875901875901,\n",
       "  'T-C': 0.21985157699443414,\n",
       "  'T-F': 0.11255411255411256,\n",
       "  'T-O': 0.11471861471861472,\n",
       "  'T-P': 0.15223665223665223,\n",
       "  'T-T': 0.14285714285714285}}"
      ]
     },
     "execution_count": 24,
     "metadata": {},
     "output_type": "execute_result"
    }
   ],
   "source": [
    "activation"
   ]
  },
  {
   "cell_type": "code",
   "execution_count": 25,
   "metadata": {},
   "outputs": [],
   "source": [
    "t={}\n",
    "for trails in trailMatrix:\n",
    "    trail,stimulus=chain(trails.split('_'))\n",
    "    if stimulus not in t:\n",
    "        t[stimulus]={}\n",
    "    for cons in trailMatrix[trails]:\n",
    "        if cons not in t[stimulus]:\n",
    "            t[stimulus][cons]=[]\n",
    "        t[stimulus][cons].append(trailMatrix[trails][cons]/zMatrix[cons])"
   ]
  },
  {
   "cell_type": "code",
   "execution_count": 26,
   "metadata": {},
   "outputs": [],
   "source": [
    "activationStd={}\n",
    "for stimulus in stimuli:\n",
    "    activationStd[stimulus]=initConnectionMatrix()\n",
    "\n",
    "for stimulus in t:\n",
    "    for cons in t[stimulus]:\n",
    "        activation[stimulus][cons]=np.mean(t[stimulus][cons])\n",
    "        activationStd[stimulus][cons]=np.std(t[stimulus][cons]) "
   ]
  },
  {
   "cell_type": "code",
   "execution_count": 27,
   "metadata": {},
   "outputs": [],
   "source": [
    "activationStd\n",
    "#pickle.dump(activationStd,open(\"activation/alcoholActivationStd.pickle\",\"wb\"))\n",
    "pickle.dump(activationStd,open(\"activation/waveAndPeel/alcoholActivationStd.pickle\",\"wb\"))"
   ]
  },
  {
   "cell_type": "code",
   "execution_count": 15,
   "metadata": {},
   "outputs": [
    {
     "data": {
      "text/plain": [
       "{'S1obj': {'C-C': 0.2549203828385932,\n",
       "  'F-C': 0.26884390842670092,\n",
       "  'F-F': 0.29574181679884559,\n",
       "  'O-C': 0.29743679615227397,\n",
       "  'O-F': 0.25869778149999162,\n",
       "  'O-O': 0.31604696534102128,\n",
       "  'P-C': 0.26464418129469197,\n",
       "  'P-F': 0.22908744475528697,\n",
       "  'P-O': 0.29665058807805322,\n",
       "  'P-P': 0.29802084906724929,\n",
       "  'T-C': 0.27296696647022528,\n",
       "  'T-F': 0.29005944259474875,\n",
       "  'T-O': 0.36252665141202312,\n",
       "  'T-P': 0.29485643350204493,\n",
       "  'T-T': 0.48104569292083466},\n",
       " 'S2match': {'C-C': 0.25458109136178703,\n",
       "  'F-C': 0.28175918639800218,\n",
       "  'F-F': 0.24877340692305538,\n",
       "  'O-C': 0.3098780760637192,\n",
       "  'O-F': 0.31376129984465601,\n",
       "  'O-O': 0.26103573041872435,\n",
       "  'P-C': 0.28005534737524257,\n",
       "  'P-F': 0.30129253088735836,\n",
       "  'P-O': 0.23903933394223886,\n",
       "  'P-P': 0.24083592494103215,\n",
       "  'T-C': 0.26395011353291919,\n",
       "  'T-F': 0.32858159976804457,\n",
       "  'T-O': 0.39317751358128278,\n",
       "  'T-P': 0.33948276561407509,\n",
       "  'T-T': 0.49995783259532872},\n",
       " 'S2nomatch': {'C-C': 0.19799974159569053,\n",
       "  'F-C': 0.23901788159171136,\n",
       "  'F-F': 0.25150484415078367,\n",
       "  'O-C': 0.28309740287283058,\n",
       "  'O-F': 0.24519326828324114,\n",
       "  'O-O': 0.29595956078159669,\n",
       "  'P-C': 0.24094905653173143,\n",
       "  'P-F': 0.20097354146979293,\n",
       "  'P-O': 0.2764267539393106,\n",
       "  'P-P': 0.2592040922725386,\n",
       "  'T-C': 0.2461107318310477,\n",
       "  'T-F': 0.30346804087599005,\n",
       "  'T-O': 0.34975300968213735,\n",
       "  'T-P': 0.29395820123575689,\n",
       "  'T-T': 0.49792959773196915}}"
      ]
     },
     "execution_count": 15,
     "metadata": {},
     "output_type": "execute_result"
    }
   ],
   "source": [
    "activationStd"
   ]
  },
  {
   "cell_type": "code",
   "execution_count": 43,
   "metadata": {},
   "outputs": [
    {
     "data": {
      "text/plain": [
       "{'S1obj': {'C-C': 0.21212121212121213,\n",
       "  'F-C': 0.11152339723768295,\n",
       "  'F-F': 0.39826839826839827,\n",
       "  'O-C': 0.07050092764378478,\n",
       "  'O-F': 0.06445406445406446,\n",
       "  'O-O': 0.7272727272727273,\n",
       "  'P-C': 0.11069882498453927,\n",
       "  'P-F': 0.05723905723905724,\n",
       "  'P-O': 0.49446849446849445,\n",
       "  'P-P': 0.474025974025974,\n",
       "  'T-C': 0.19202226345083487,\n",
       "  'T-F': 0.11183261183261184,\n",
       "  'T-O': 0.08441558441558442,\n",
       "  'T-P': 0.12626262626262627,\n",
       "  'T-T': 0.09090909090909091},\n",
       " 'S2match': {'C-C': 0.23685837971552257,\n",
       "  'F-C': 0.13234384662956092,\n",
       "  'F-F': 0.5050505050505051,\n",
       "  'O-C': 0.13852813852813853,\n",
       "  'O-F': 0.0735930735930736,\n",
       "  'O-O': 0.8051948051948052,\n",
       "  'P-C': 0.17233560090702948,\n",
       "  'P-F': 0.06846240179573512,\n",
       "  'P-O': 0.5916305916305916,\n",
       "  'P-P': 0.5432900432900433,\n",
       "  'T-C': 0.24118738404452691,\n",
       "  'T-F': 0.12193362193362194,\n",
       "  'T-O': 0.16883116883116883,\n",
       "  'T-P': 0.18037518037518038,\n",
       "  'T-T': 0.14285714285714285},\n",
       " 'S2nomatch': {'C-C': 0.18119975262832405,\n",
       "  'F-C': 0.07503607503607504,\n",
       "  'F-F': 0.4531024531024531,\n",
       "  'O-C': 0.07482993197278912,\n",
       "  'O-F': 0.030303030303030304,\n",
       "  'O-O': 0.7532467532467533,\n",
       "  'P-C': 0.08719851576994433,\n",
       "  'P-F': 0.024210357543690875,\n",
       "  'P-O': 0.5565175565175565,\n",
       "  'P-P': 0.4989177489177489,\n",
       "  'T-C': 0.1790352504638219,\n",
       "  'T-F': 0.07936507936507936,\n",
       "  'T-O': 0.07575757575757576,\n",
       "  'T-P': 0.10173160173160173,\n",
       "  'T-T': 0.07792207792207792}}"
      ]
     },
     "execution_count": 43,
     "metadata": {},
     "output_type": "execute_result"
    }
   ],
   "source": [
    "activation"
   ]
  },
  {
   "cell_type": "code",
   "execution_count": null,
   "metadata": {},
   "outputs": [],
   "source": []
  }
 ],
 "metadata": {
  "kernelspec": {
   "display_name": "Python 3",
   "language": "python",
   "name": "python3"
  },
  "language_info": {
   "codemirror_mode": {
    "name": "ipython",
    "version": 3
   },
   "file_extension": ".py",
   "mimetype": "text/x-python",
   "name": "python",
   "nbconvert_exporter": "python",
   "pygments_lexer": "ipython3",
   "version": "3.6.3"
  }
 },
 "nbformat": 4,
 "nbformat_minor": 2
}
